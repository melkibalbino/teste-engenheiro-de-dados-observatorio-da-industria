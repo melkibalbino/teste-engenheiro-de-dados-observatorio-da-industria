{
 "cells": [
  {
   "cell_type": "code",
   "execution_count": 1,
   "id": "9df28d54",
   "metadata": {
    "execution": {
     "iopub.execute_input": "2024-07-09T21:40:16.313585Z",
     "iopub.status.busy": "2024-07-09T21:40:16.313381Z",
     "iopub.status.idle": "2024-07-09T21:40:16.473822Z",
     "shell.execute_reply": "2024-07-09T21:40:16.473051Z"
    },
    "jupyter": {
     "source_hidden": true
    },
    "papermill": {
     "duration": 0.165656,
     "end_time": "2024-07-09T21:40:16.475572",
     "exception": false,
     "start_time": "2024-07-09T21:40:16.309916",
     "status": "completed"
    },
    "tags": []
   },
   "outputs": [],
   "source": [
    "import requests\n",
    "from pyspark.sql import SparkSession\n",
    "from pyspark.sql import functions as F\n",
    "from pyspark.sql import types as T"
   ]
  },
  {
   "cell_type": "code",
   "execution_count": 2,
   "id": "bec6f926",
   "metadata": {
    "execution": {
     "iopub.execute_input": "2024-07-09T21:40:16.481539Z",
     "iopub.status.busy": "2024-07-09T21:40:16.481180Z",
     "iopub.status.idle": "2024-07-09T21:40:16.484486Z",
     "shell.execute_reply": "2024-07-09T21:40:16.483916Z"
    },
    "jupyter": {
     "source_hidden": true
    },
    "papermill": {
     "duration": 0.007618,
     "end_time": "2024-07-09T21:40:16.485690",
     "exception": false,
     "start_time": "2024-07-09T21:40:16.478072",
     "status": "completed"
    },
    "tags": []
   },
   "outputs": [],
   "source": [
    "# url para o cojunto de dados \n",
    "url = \"https://servicodados.ibge.gov.br/api/v3/agregados/1839/periodos/2022/variaveis/630?localidades=N1[all]\""
   ]
  },
  {
   "cell_type": "code",
   "execution_count": 3,
   "id": "0aaad637",
   "metadata": {
    "execution": {
     "iopub.execute_input": "2024-07-09T21:40:16.491281Z",
     "iopub.status.busy": "2024-07-09T21:40:16.490583Z",
     "iopub.status.idle": "2024-07-09T21:40:19.069470Z",
     "shell.execute_reply": "2024-07-09T21:40:19.068314Z"
    },
    "jupyter": {
     "source_hidden": true
    },
    "papermill": {
     "duration": 2.583749,
     "end_time": "2024-07-09T21:40:19.071529",
     "exception": false,
     "start_time": "2024-07-09T21:40:16.487780",
     "status": "completed"
    },
    "tags": []
   },
   "outputs": [
    {
     "name": "stderr",
     "output_type": "stream",
     "text": [
      "/home/airflow/.local/lib/python3.11/site-packages/pyspark/bin/load-spark-env.sh: line 68: ps: command not found\n"
     ]
    },
    {
     "name": "stderr",
     "output_type": "stream",
     "text": [
      "Setting default log level to \"WARN\".\n",
      "To adjust logging level use sc.setLogLevel(newLevel). For SparkR, use setLogLevel(newLevel).\n"
     ]
    }
   ],
   "source": [
    "spark = SparkSession.builder.getOrCreate()"
   ]
  },
  {
   "cell_type": "code",
   "execution_count": 4,
   "id": "cc91bfd6",
   "metadata": {
    "execution": {
     "iopub.execute_input": "2024-07-09T21:40:19.079697Z",
     "iopub.status.busy": "2024-07-09T21:40:19.079255Z",
     "iopub.status.idle": "2024-07-09T21:40:19.343234Z",
     "shell.execute_reply": "2024-07-09T21:40:19.342425Z"
    },
    "jupyter": {
     "source_hidden": true
    },
    "papermill": {
     "duration": 0.270583,
     "end_time": "2024-07-09T21:40:19.344867",
     "exception": false,
     "start_time": "2024-07-09T21:40:19.074284",
     "status": "completed"
    },
    "tags": []
   },
   "outputs": [],
   "source": [
    "response = requests.get(url=url)\n",
    "response.raise_for_status()"
   ]
  },
  {
   "cell_type": "code",
   "execution_count": 5,
   "id": "2fe28047",
   "metadata": {
    "execution": {
     "iopub.execute_input": "2024-07-09T21:40:19.351247Z",
     "iopub.status.busy": "2024-07-09T21:40:19.350934Z",
     "iopub.status.idle": "2024-07-09T21:40:19.354610Z",
     "shell.execute_reply": "2024-07-09T21:40:19.353833Z"
    },
    "jupyter": {
     "source_hidden": true
    },
    "papermill": {
     "duration": 0.008289,
     "end_time": "2024-07-09T21:40:19.355840",
     "exception": false,
     "start_time": "2024-07-09T21:40:19.347551",
     "status": "completed"
    },
    "tags": []
   },
   "outputs": [],
   "source": [
    "data = response.json()"
   ]
  },
  {
   "cell_type": "code",
   "execution_count": 6,
   "id": "513ffb23",
   "metadata": {
    "execution": {
     "iopub.execute_input": "2024-07-09T21:40:19.361714Z",
     "iopub.status.busy": "2024-07-09T21:40:19.361470Z",
     "iopub.status.idle": "2024-07-09T21:40:19.367972Z",
     "shell.execute_reply": "2024-07-09T21:40:19.367289Z"
    },
    "jupyter": {
     "source_hidden": true
    },
    "papermill": {
     "duration": 0.011306,
     "end_time": "2024-07-09T21:40:19.369492",
     "exception": false,
     "start_time": "2024-07-09T21:40:19.358186",
     "status": "completed"
    },
    "tags": []
   },
   "outputs": [],
   "source": [
    "schema = T.StructType([\n",
    "    T.StructField(\"id\", T.StringType(), True),\n",
    "    T.StructField(\"variavel\", T.StringType(), True),\n",
    "    T.StructField(\"unidade\", T.StringType(), True),\n",
    "    T.StructField(\"resultados\", T.ArrayType(T.StructType([\n",
    "        T.StructField(\"classificacoes\", T.ArrayType(T.StructType([\n",
    "            T.StructField(\"id\", T.StringType(), True),\n",
    "            T.StructField(\"nome\", T.StringType(), True),\n",
    "            T.StructField(\"categoria\", T.MapType(T.StringType(), T.StringType()), True)\n",
    "        ])), True),\n",
    "        T.StructField(\"series\", T.ArrayType(T.StructType([\n",
    "            T.StructField(\"localidade\", T.StructType([\n",
    "                T.StructField(\"id\", T.StringType(), True),\n",
    "                T.StructField(\"nivel\", T.StructType([\n",
    "                    T.StructField(\"id\", T.StringType(), True),\n",
    "                    T.StructField(\"nome\", T.StringType(), True)\n",
    "                ]), True),\n",
    "                T.StructField(\"nome\", T.StringType(), True)\n",
    "            ]), True),\n",
    "            T.StructField(\"serie\", T.MapType(T.StringType(), T.StringType()), True)\n",
    "        ])), True)\n",
    "    ])), True)\n",
    "])"
   ]
  },
  {
   "cell_type": "code",
   "execution_count": 7,
   "id": "b507ac85",
   "metadata": {
    "execution": {
     "iopub.execute_input": "2024-07-09T21:40:19.375907Z",
     "iopub.status.busy": "2024-07-09T21:40:19.375637Z",
     "iopub.status.idle": "2024-07-09T21:40:21.421687Z",
     "shell.execute_reply": "2024-07-09T21:40:21.420440Z"
    },
    "jupyter": {
     "source_hidden": true
    },
    "papermill": {
     "duration": 2.051487,
     "end_time": "2024-07-09T21:40:21.423537",
     "exception": false,
     "start_time": "2024-07-09T21:40:19.372050",
     "status": "completed"
    },
    "tags": []
   },
   "outputs": [],
   "source": [
    "df = spark.createDataFrame(data, schema)"
   ]
  },
  {
   "cell_type": "code",
   "execution_count": 8,
   "id": "523dbe14",
   "metadata": {
    "execution": {
     "iopub.execute_input": "2024-07-09T21:40:21.431444Z",
     "iopub.status.busy": "2024-07-09T21:40:21.430487Z",
     "iopub.status.idle": "2024-07-09T21:40:21.434978Z",
     "shell.execute_reply": "2024-07-09T21:40:21.434204Z"
    },
    "jupyter": {
     "source_hidden": true
    },
    "papermill": {
     "duration": 0.010252,
     "end_time": "2024-07-09T21:40:21.436695",
     "exception": false,
     "start_time": "2024-07-09T21:40:21.426443",
     "status": "completed"
    },
    "tags": []
   },
   "outputs": [],
   "source": [
    "# df_out = df.select(\n",
    "#     F.col(\"id\"),\n",
    "#     F.col(\"variavel\"),\n",
    "#     F.col(\"unidade\"),\n",
    "#     F.col(\"resultados\")[0].getItem(\"classificacoes\")[0].getItem(\"id\").alias(\"classificacoes_id\"),\n",
    "#     F.col(\"resultados\")[0].getItem(\"classificacoes\")[0].getItem(\"nome\").alias(\"classificacoes_nome\"),\n",
    "#     F.col(\"resultados\")[0].getItem(\"classificacoes\")[0].getItem(\"categoria\").alias(\"classificacoes_categoria\"),\n",
    "#     F.col(\"resultados\")[0].getItem(\"series\")[0].getItem(\"localidade\").getItem(\"id\").alias(\"series_id\"),\n",
    "#     F.col(\"resultados\")[0].getItem(\"series\")[0].getItem(\"localidade\").getItem(\"nome\").alias(\"series_nome\"),\n",
    "#     F.col(\"resultados\")[0].getItem(\"series\")[0].getItem(\"localidade\").getItem(\"nivel\").getItem(\"id\").alias(\"series_nivel_id\"),\n",
    "#     F.col(\"resultados\")[0].getItem(\"series\")[0].getItem(\"localidade\").getItem(\"nivel\").getItem(\"nome\").alias(\"series_nivel_nome\"),\n",
    "#     F.col(\"resultados\")[0].getItem(\"series\")[0].getItem(\"serie\").alias(\"series\")\n",
    "# )"
   ]
  },
  {
   "cell_type": "code",
   "execution_count": 9,
   "id": "d665abcb",
   "metadata": {
    "execution": {
     "iopub.execute_input": "2024-07-09T21:40:21.444106Z",
     "iopub.status.busy": "2024-07-09T21:40:21.443616Z",
     "iopub.status.idle": "2024-07-09T21:40:21.447381Z",
     "shell.execute_reply": "2024-07-09T21:40:21.446607Z"
    },
    "jupyter": {
     "source_hidden": true
    },
    "papermill": {
     "duration": 0.009255,
     "end_time": "2024-07-09T21:40:21.448853",
     "exception": false,
     "start_time": "2024-07-09T21:40:21.439598",
     "status": "completed"
    },
    "tags": []
   },
   "outputs": [],
   "source": [
    "# df_out = df_out.select(\"*\", F.explode(\"classificacoes_categoria\").alias(\"categoria_id\", \"categoria_nome\"))\n",
    "# df_out = df_out.select(\"*\", F.explode(\"series\").alias(\"series_id\", \"series_nome\"))\n",
    "\n",
    "# df_out = df_out.drop(\"classificacoes_categoria\", \"series\")"
   ]
  },
  {
   "cell_type": "code",
   "execution_count": 10,
   "id": "a95cd9b8",
   "metadata": {
    "execution": {
     "iopub.execute_input": "2024-07-09T21:40:21.457855Z",
     "iopub.status.busy": "2024-07-09T21:40:21.457226Z",
     "iopub.status.idle": "2024-07-09T21:40:21.461949Z",
     "shell.execute_reply": "2024-07-09T21:40:21.460855Z"
    },
    "jupyter": {
     "source_hidden": true
    },
    "papermill": {
     "duration": 0.012289,
     "end_time": "2024-07-09T21:40:21.463976",
     "exception": false,
     "start_time": "2024-07-09T21:40:21.451687",
     "status": "completed"
    },
    "tags": []
   },
   "outputs": [],
   "source": [
    "# df_out.show()"
   ]
  },
  {
   "cell_type": "code",
   "execution_count": 11,
   "id": "4f0713df",
   "metadata": {
    "execution": {
     "iopub.execute_input": "2024-07-09T21:40:21.474550Z",
     "iopub.status.busy": "2024-07-09T21:40:21.474157Z",
     "iopub.status.idle": "2024-07-09T21:40:21.603866Z",
     "shell.execute_reply": "2024-07-09T21:40:21.602635Z"
    },
    "jupyter": {
     "source_hidden": true
    },
    "papermill": {
     "duration": 0.137462,
     "end_time": "2024-07-09T21:40:21.605682",
     "exception": false,
     "start_time": "2024-07-09T21:40:21.468220",
     "status": "completed"
    },
    "tags": []
   },
   "outputs": [],
   "source": [
    "df_exploded_resultados = df.withColumn(\"resultado\", F.explode(\"resultados\"))"
   ]
  },
  {
   "cell_type": "code",
   "execution_count": 12,
   "id": "3412e242",
   "metadata": {
    "execution": {
     "iopub.execute_input": "2024-07-09T21:40:21.613621Z",
     "iopub.status.busy": "2024-07-09T21:40:21.613153Z",
     "iopub.status.idle": "2024-07-09T21:40:21.667360Z",
     "shell.execute_reply": "2024-07-09T21:40:21.666133Z"
    },
    "jupyter": {
     "source_hidden": true
    },
    "papermill": {
     "duration": 0.061118,
     "end_time": "2024-07-09T21:40:21.669861",
     "exception": false,
     "start_time": "2024-07-09T21:40:21.608743",
     "status": "completed"
    },
    "tags": []
   },
   "outputs": [],
   "source": [
    "df_exploded_classificacoes = df_exploded_resultados.withColumn(\"classificacao\", F.explode(\"resultado.classificacoes\"))"
   ]
  },
  {
   "cell_type": "code",
   "execution_count": 13,
   "id": "62df8584",
   "metadata": {
    "execution": {
     "iopub.execute_input": "2024-07-09T21:40:21.678243Z",
     "iopub.status.busy": "2024-07-09T21:40:21.677951Z",
     "iopub.status.idle": "2024-07-09T21:40:21.720606Z",
     "shell.execute_reply": "2024-07-09T21:40:21.719185Z"
    },
    "jupyter": {
     "source_hidden": true
    },
    "papermill": {
     "duration": 0.049472,
     "end_time": "2024-07-09T21:40:21.723094",
     "exception": false,
     "start_time": "2024-07-09T21:40:21.673622",
     "status": "completed"
    },
    "tags": []
   },
   "outputs": [],
   "source": [
    "df_exploded_series = df_exploded_classificacoes.withColumn(\"serie\", F.explode(\"resultado.series\"))"
   ]
  },
  {
   "cell_type": "code",
   "execution_count": 14,
   "id": "29d6c2b3",
   "metadata": {
    "execution": {
     "iopub.execute_input": "2024-07-09T21:40:21.732945Z",
     "iopub.status.busy": "2024-07-09T21:40:21.732208Z",
     "iopub.status.idle": "2024-07-09T21:40:21.788519Z",
     "shell.execute_reply": "2024-07-09T21:40:21.787379Z"
    },
    "jupyter": {
     "source_hidden": true
    },
    "papermill": {
     "duration": 0.063139,
     "end_time": "2024-07-09T21:40:21.790612",
     "exception": false,
     "start_time": "2024-07-09T21:40:21.727473",
     "status": "completed"
    },
    "tags": []
   },
   "outputs": [],
   "source": [
    "df_selected = df_exploded_series.select(\n",
    "    F.col(\"id\").alias(\"id\"),\n",
    "    F.col(\"variavel\").alias(\"variavel\"),\n",
    "    F.col(\"unidade\").alias(\"unidade\"),\n",
    "    F.col(\"classificacao.id\").alias(\"classificacao_id\"),\n",
    "    F.col(\"classificacao.nome\").alias(\"classificacao_nome\"),\n",
    "    F.col(\"classificacao.categoria\").alias(\"classificacao_categoria\"),\n",
    "    F.col(\"serie.localidade.id\").alias(\"localidade_id\"),\n",
    "    F.col(\"serie.localidade.nivel.id\").alias(\"localidade_nivel_id\"),\n",
    "    F.col(\"serie.localidade.nivel.nome\").alias(\"localidade_nivel_nome\"),\n",
    "    F.col(\"serie.localidade.nome\").alias(\"localidade_nome\"),\n",
    "    F.col(\"serie.serie\").alias(\"serie\")\n",
    ")"
   ]
  },
  {
   "cell_type": "code",
   "execution_count": 15,
   "id": "4cbc6362",
   "metadata": {
    "execution": {
     "iopub.execute_input": "2024-07-09T21:40:21.798964Z",
     "iopub.status.busy": "2024-07-09T21:40:21.798420Z",
     "iopub.status.idle": "2024-07-09T21:40:25.619125Z",
     "shell.execute_reply": "2024-07-09T21:40:25.618080Z"
    },
    "jupyter": {
     "source_hidden": true
    },
    "papermill": {
     "duration": 3.827553,
     "end_time": "2024-07-09T21:40:25.621737",
     "exception": false,
     "start_time": "2024-07-09T21:40:21.794184",
     "status": "completed"
    },
    "tags": []
   },
   "outputs": [
    {
     "name": "stderr",
     "output_type": "stream",
     "text": [
      "\r",
      "[Stage 0:>                                                          (0 + 1) / 1]\r"
     ]
    },
    {
     "name": "stderr",
     "output_type": "stream",
     "text": [
      "\r",
      "                                                                                \r"
     ]
    },
    {
     "name": "stdout",
     "output_type": "stream",
     "text": [
      "+---+------------------+--------+----------------+-------------------------+-----------------------+-------------+-------------------+---------------------+---------------+----------------+\n",
      "|id |variavel          |unidade |classificacao_id|classificacao_nome       |classificacao_categoria|localidade_id|localidade_nivel_id|localidade_nivel_nome|localidade_nome|serie           |\n",
      "+---+------------------+--------+----------------+-------------------------+-----------------------+-------------+-------------------+---------------------+---------------+----------------+\n",
      "|630|Número de empresas|Unidades|319             |Faixas de pessoal ocupado|{104029 -> Total}      |1            |N1                 |Brasil               |Brasil         |{2022 -> 346105}|\n",
      "|630|Número de empresas|Unidades|9117            |Tipo de indústria        |{99735 -> Total}       |1            |N1                 |Brasil               |Brasil         |{2022 -> 346105}|\n",
      "+---+------------------+--------+----------------+-------------------------+-----------------------+-------------+-------------------+---------------------+---------------+----------------+\n",
      "\n"
     ]
    }
   ],
   "source": [
    "df_selected.show(truncate=False)"
   ]
  }
 ],
 "metadata": {
  "kernelspec": {
   "display_name": ".venv",
   "language": "python",
   "name": "python3"
  },
  "language_info": {
   "codemirror_mode": {
    "name": "ipython",
    "version": 3
   },
   "file_extension": ".py",
   "mimetype": "text/x-python",
   "name": "python",
   "nbconvert_exporter": "python",
   "pygments_lexer": "ipython3",
   "version": "3.11.8"
  },
  "papermill": {
   "default_parameters": {},
   "duration": 13.060348,
   "end_time": "2024-07-09T21:40:28.152877",
   "environment_variables": {},
   "exception": null,
   "input_path": "/opt/airflow/dags/pesquisa_industrial_anual_empresas/notebooks/workspace.ipynb",
   "output_path": "/opt/airflow/dags/resultado/pesquisa_industrial_anual_empresas_workspace_2024-07-09.ipynb",
   "parameters": {},
   "start_time": "2024-07-09T21:40:15.092529",
   "version": "2.6.0"
  }
 },
 "nbformat": 4,
 "nbformat_minor": 5
}
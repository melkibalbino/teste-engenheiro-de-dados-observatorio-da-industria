{
 "cells": [
  {
   "cell_type": "markdown",
   "id": "033e88fe",
   "metadata": {
    "tags": [
     "papermill-error-cell-tag"
    ]
   },
   "source": [
    "<span style=\"color:red; font-family:Helvetica Neue, Helvetica, Arial, sans-serif; font-size:2em;\">An Exception was encountered at '<a href=\"#papermill-error-cell\">In [9]</a>'.</span>"
   ]
  },
  {
   "cell_type": "code",
   "execution_count": 1,
   "id": "e70df04a",
   "metadata": {
    "execution": {
     "iopub.execute_input": "2024-07-09T14:39:42.657241Z",
     "iopub.status.busy": "2024-07-09T14:39:42.657004Z",
     "iopub.status.idle": "2024-07-09T14:39:42.810712Z",
     "shell.execute_reply": "2024-07-09T14:39:42.809925Z"
    },
    "jupyter": {
     "source_hidden": true
    },
    "papermill": {
     "duration": 0.161508,
     "end_time": "2024-07-09T14:39:42.812526",
     "exception": false,
     "start_time": "2024-07-09T14:39:42.651018",
     "status": "completed"
    },
    "tags": []
   },
   "outputs": [],
   "source": [
    "import requests\n",
    "from pyspark.sql import SparkSession\n",
    "from pyspark.sql import functions as F\n",
    "from pyspark.sql import types as T"
   ]
  },
  {
   "cell_type": "code",
   "execution_count": 2,
   "id": "b694af75",
   "metadata": {
    "execution": {
     "iopub.execute_input": "2024-07-09T14:39:42.817832Z",
     "iopub.status.busy": "2024-07-09T14:39:42.816857Z",
     "iopub.status.idle": "2024-07-09T14:39:42.821044Z",
     "shell.execute_reply": "2024-07-09T14:39:42.820302Z"
    },
    "jupyter": {
     "source_hidden": true
    },
    "papermill": {
     "duration": 0.008124,
     "end_time": "2024-07-09T14:39:42.822376",
     "exception": false,
     "start_time": "2024-07-09T14:39:42.814252",
     "status": "completed"
    },
    "tags": []
   },
   "outputs": [],
   "source": [
    "# url para o cojunto de dados \n",
    "url = \"https://servicodados.ibge.gov.br/api/v3/agregados/1839/periodos/2022/variaveis/630?localidades=N1[all]\""
   ]
  },
  {
   "cell_type": "code",
   "execution_count": 3,
   "id": "18f24fef",
   "metadata": {
    "execution": {
     "iopub.execute_input": "2024-07-09T14:39:42.826625Z",
     "iopub.status.busy": "2024-07-09T14:39:42.826381Z",
     "iopub.status.idle": "2024-07-09T14:39:45.298123Z",
     "shell.execute_reply": "2024-07-09T14:39:45.297339Z"
    },
    "jupyter": {
     "source_hidden": true
    },
    "papermill": {
     "duration": 2.475646,
     "end_time": "2024-07-09T14:39:45.299538",
     "exception": false,
     "start_time": "2024-07-09T14:39:42.823892",
     "status": "completed"
    },
    "tags": []
   },
   "outputs": [
    {
     "name": "stderr",
     "output_type": "stream",
     "text": [
      "/home/airflow/.local/lib/python3.11/site-packages/pyspark/bin/load-spark-env.sh: line 68: ps: command not found\n"
     ]
    },
    {
     "name": "stderr",
     "output_type": "stream",
     "text": [
      "Setting default log level to \"WARN\".\n",
      "To adjust logging level use sc.setLogLevel(newLevel). For SparkR, use setLogLevel(newLevel).\n"
     ]
    }
   ],
   "source": [
    "spark = SparkSession.builder.getOrCreate()"
   ]
  },
  {
   "cell_type": "code",
   "execution_count": 4,
   "id": "59c8c42f",
   "metadata": {
    "execution": {
     "iopub.execute_input": "2024-07-09T14:39:45.303953Z",
     "iopub.status.busy": "2024-07-09T14:39:45.303726Z",
     "iopub.status.idle": "2024-07-09T14:39:45.577572Z",
     "shell.execute_reply": "2024-07-09T14:39:45.576892Z"
    },
    "jupyter": {
     "source_hidden": true
    },
    "papermill": {
     "duration": 0.277923,
     "end_time": "2024-07-09T14:39:45.579187",
     "exception": false,
     "start_time": "2024-07-09T14:39:45.301264",
     "status": "completed"
    },
    "tags": []
   },
   "outputs": [],
   "source": [
    "response = requests.get(url=url)\n",
    "response.raise_for_status()"
   ]
  },
  {
   "cell_type": "code",
   "execution_count": 5,
   "id": "882b42d3",
   "metadata": {
    "execution": {
     "iopub.execute_input": "2024-07-09T14:39:45.583587Z",
     "iopub.status.busy": "2024-07-09T14:39:45.583386Z",
     "iopub.status.idle": "2024-07-09T14:39:45.587017Z",
     "shell.execute_reply": "2024-07-09T14:39:45.586289Z"
    },
    "jupyter": {
     "source_hidden": true
    },
    "papermill": {
     "duration": 0.007362,
     "end_time": "2024-07-09T14:39:45.588258",
     "exception": false,
     "start_time": "2024-07-09T14:39:45.580896",
     "status": "completed"
    },
    "tags": []
   },
   "outputs": [],
   "source": [
    "data = response.json()"
   ]
  },
  {
   "cell_type": "code",
   "execution_count": 6,
   "id": "dee0e1d7",
   "metadata": {
    "execution": {
     "iopub.execute_input": "2024-07-09T14:39:45.593324Z",
     "iopub.status.busy": "2024-07-09T14:39:45.593125Z",
     "iopub.status.idle": "2024-07-09T14:39:45.598850Z",
     "shell.execute_reply": "2024-07-09T14:39:45.598180Z"
    },
    "jupyter": {
     "source_hidden": true
    },
    "papermill": {
     "duration": 0.010282,
     "end_time": "2024-07-09T14:39:45.600116",
     "exception": false,
     "start_time": "2024-07-09T14:39:45.589834",
     "status": "completed"
    },
    "tags": []
   },
   "outputs": [],
   "source": [
    "schema = T.StructType([\n",
    "    T.StructField(\"id\", T.StringType(), True),\n",
    "    T.StructField(\"variavel\", T.StringType(), True),\n",
    "    T.StructField(\"unidade\", T.StringType(), True),\n",
    "    T.StructField(\"resultados\", T.ArrayType(T.StructType([\n",
    "        T.StructField(\"classificacoes\", T.ArrayType(T.StructType([\n",
    "            T.StructField(\"id\", T.StringType(), True),\n",
    "            T.StructField(\"nome\", T.StringType(), True),\n",
    "            T.StructField(\"categoria\", T.MapType(T.StringType(), T.StringType()), True)\n",
    "        ])), True),\n",
    "        T.StructField(\"series\", T.ArrayType(T.StructType([\n",
    "            T.StructField(\"localidade\", T.StructType([\n",
    "                T.StructField(\"id\", T.StringType(), True),\n",
    "                T.StructField(\"nivel\", T.StructType([\n",
    "                    T.StructField(\"id\", T.StringType(), True),\n",
    "                    T.StructField(\"nome\", T.StringType(), True)\n",
    "                ]), True),\n",
    "                T.StructField(\"nome\", T.StringType(), True)\n",
    "            ]), True),\n",
    "            T.StructField(\"serie\", T.MapType(T.StringType(), T.StringType()), True)\n",
    "        ])), True)\n",
    "    ])), True)\n",
    "])"
   ]
  },
  {
   "cell_type": "code",
   "execution_count": 7,
   "id": "5a315ce8",
   "metadata": {
    "execution": {
     "iopub.execute_input": "2024-07-09T14:39:45.604508Z",
     "iopub.status.busy": "2024-07-09T14:39:45.604301Z",
     "iopub.status.idle": "2024-07-09T14:39:47.096000Z",
     "shell.execute_reply": "2024-07-09T14:39:47.095227Z"
    },
    "jupyter": {
     "source_hidden": true
    },
    "papermill": {
     "duration": 1.495662,
     "end_time": "2024-07-09T14:39:47.097417",
     "exception": false,
     "start_time": "2024-07-09T14:39:45.601755",
     "status": "completed"
    },
    "tags": []
   },
   "outputs": [],
   "source": [
    "df = spark.createDataFrame(data, schema)"
   ]
  },
  {
   "cell_type": "code",
   "execution_count": 8,
   "id": "f63d23e3",
   "metadata": {
    "execution": {
     "iopub.execute_input": "2024-07-09T14:39:47.102342Z",
     "iopub.status.busy": "2024-07-09T14:39:47.102017Z",
     "iopub.status.idle": "2024-07-09T14:39:47.158355Z",
     "shell.execute_reply": "2024-07-09T14:39:47.157630Z"
    },
    "jupyter": {
     "source_hidden": true
    },
    "papermill": {
     "duration": 0.060571,
     "end_time": "2024-07-09T14:39:47.159787",
     "exception": false,
     "start_time": "2024-07-09T14:39:47.099216",
     "status": "completed"
    },
    "tags": []
   },
   "outputs": [],
   "source": [
    "df_out = df.select(\n",
    "    F.col(\"id\"),\n",
    "    F.col(\"variavel\")\n",
    ")"
   ]
  },
  {
   "cell_type": "markdown",
   "id": "9cb302ea",
   "metadata": {
    "tags": [
     "papermill-error-cell-tag"
    ]
   },
   "source": [
    "<span id=\"papermill-error-cell\" style=\"color:red; font-family:Helvetica Neue, Helvetica, Arial, sans-serif; font-size:2em;\">Execution using papermill encountered an exception here and stopped:</span>"
   ]
  },
  {
   "cell_type": "code",
   "execution_count": 9,
   "id": "1614dab5",
   "metadata": {
    "execution": {
     "iopub.execute_input": "2024-07-09T14:39:47.164416Z",
     "iopub.status.busy": "2024-07-09T14:39:47.164184Z",
     "iopub.status.idle": "2024-07-09T14:39:47.168954Z",
     "shell.execute_reply": "2024-07-09T14:39:47.167959Z"
    },
    "jupyter": {
     "source_hidden": true
    },
    "papermill": {
     "duration": 0.008453,
     "end_time": "2024-07-09T14:39:47.170071",
     "exception": true,
     "start_time": "2024-07-09T14:39:47.161618",
     "status": "failed"
    },
    "tags": []
   },
   "outputs": [
    {
     "ename": "SyntaxError",
     "evalue": "'(' was never closed (2260856980.py, line 1)",
     "output_type": "error",
     "traceback": [
      "\u001b[0;36m  Cell \u001b[0;32mIn[9], line 1\u001b[0;36m\u001b[0m\n\u001b[0;31m    df_out = df.select(\u001b[0m\n\u001b[0m                      ^\u001b[0m\n\u001b[0;31mSyntaxError\u001b[0m\u001b[0;31m:\u001b[0m '(' was never closed\n"
     ]
    }
   ],
   "source": [
    "df_out = df.select(\n",
    ".show()"
   ]
  }
 ],
 "metadata": {
  "kernelspec": {
   "display_name": ".venv",
   "language": "python",
   "name": "python3"
  },
  "language_info": {
   "codemirror_mode": {
    "name": "ipython",
    "version": 3
   },
   "file_extension": ".py",
   "mimetype": "text/x-python",
   "name": "python",
   "nbconvert_exporter": "python",
   "pygments_lexer": "ipython3",
   "version": "3.11.8"
  },
  "papermill": {
   "default_parameters": {},
   "duration": 8.449148,
   "end_time": "2024-07-09T14:39:49.791324",
   "environment_variables": {},
   "exception": true,
   "input_path": "/opt/airflow/dags/pesquisa_industrial_anual_empresas/notebooks/workspace.ipynb",
   "output_path": "/opt/airflow/dags/resultado/pesquisa_industrial_anual_empresas_workspace_2024-07-09.ipynb",
   "parameters": {},
   "start_time": "2024-07-09T14:39:41.342176",
   "version": "2.6.0"
  }
 },
 "nbformat": 4,
 "nbformat_minor": 5
}
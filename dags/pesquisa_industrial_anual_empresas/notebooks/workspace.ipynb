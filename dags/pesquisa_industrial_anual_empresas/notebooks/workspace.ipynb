{
 "cells": [
  {
   "cell_type": "code",
   "execution_count": null,
   "metadata": {},
   "outputs": [],
   "source": [
    "import requests\n",
    "from pyspark.sql import SparkSession\n",
    "from pyspark.sql import functions as F\n",
    "from pyspark.sql import types as T"
   ]
  },
  {
   "cell_type": "code",
   "execution_count": null,
   "metadata": {},
   "outputs": [],
   "source": [
    "# url para o cojunto de dados \n",
    "url = \"https://servicodados.ibge.gov.br/api/v3/agregados/1839/periodos/2022/variaveis/630?localidades=N1[all]\""
   ]
  },
  {
   "cell_type": "code",
   "execution_count": null,
   "metadata": {},
   "outputs": [],
   "source": [
    "spark = SparkSession.builder.getOrCreate()"
   ]
  },
  {
   "cell_type": "code",
   "execution_count": null,
   "metadata": {},
   "outputs": [],
   "source": [
    "response = requests.get(url=url)\n",
    "response.raise_for_status()"
   ]
  },
  {
   "cell_type": "code",
   "execution_count": null,
   "metadata": {},
   "outputs": [],
   "source": [
    "data = response.json()"
   ]
  },
  {
   "cell_type": "code",
   "execution_count": null,
   "metadata": {},
   "outputs": [],
   "source": [
    "schema = T.StructType([\n",
    "    T.StructField(\"id\", T.StringType(), True),\n",
    "    T.StructField(\"variavel\", T.StringType(), True),\n",
    "    T.StructField(\"unidade\", T.StringType(), True),\n",
    "    T.StructField(\"resultados\", T.ArrayType(T.StructType([\n",
    "        T.StructField(\"classificacoes\", T.ArrayType(T.StructType([\n",
    "            T.StructField(\"id\", T.StringType(), True),\n",
    "            T.StructField(\"nome\", T.StringType(), True),\n",
    "            T.StructField(\"categoria\", T.MapType(T.StringType(), T.StringType()), True)\n",
    "        ])), True),\n",
    "        T.StructField(\"series\", T.ArrayType(T.StructType([\n",
    "            T.StructField(\"localidade\", T.StructType([\n",
    "                T.StructField(\"id\", T.StringType(), True),\n",
    "                T.StructField(\"nivel\", T.StructType([\n",
    "                    T.StructField(\"id\", T.StringType(), True),\n",
    "                    T.StructField(\"nome\", T.StringType(), True)\n",
    "                ]), True),\n",
    "                T.StructField(\"nome\", T.StringType(), True)\n",
    "            ]), True),\n",
    "            T.StructField(\"serie\", T.MapType(T.StringType(), T.StringType()), True)\n",
    "        ])), True)\n",
    "    ])), True)\n",
    "])"
   ]
  },
  {
   "cell_type": "code",
   "execution_count": null,
   "metadata": {},
   "outputs": [],
   "source": [
    "df = spark.createDataFrame(data, schema)"
   ]
  },
  {
   "cell_type": "code",
   "execution_count": null,
   "metadata": {},
   "outputs": [],
   "source": [
    "df_exploded_resultados = df.withColumn(\"resultado\", F.explode(\"resultados\"))"
   ]
  },
  {
   "cell_type": "code",
   "execution_count": null,
   "metadata": {},
   "outputs": [],
   "source": [
    "df_exploded_classificacoes = df_exploded_resultados.withColumn(\"classificacao\", F.explode(\"resultado.classificacoes\"))"
   ]
  },
  {
   "cell_type": "code",
   "execution_count": null,
   "metadata": {},
   "outputs": [],
   "source": [
    "df_exploded_series = df_exploded_classificacoes.withColumn(\"serie\", F.explode(\"resultado.series\"))"
   ]
  },
  {
   "cell_type": "code",
   "execution_count": null,
   "metadata": {},
   "outputs": [],
   "source": [
    "df_out = df_exploded_series.select(\n",
    "    F.col(\"id\").alias(\"id\"),\n",
    "    F.col(\"variavel\").alias(\"variavel\"),\n",
    "    F.col(\"unidade\").alias(\"unidade\"),\n",
    "    F.col(\"classificacao.id\").alias(\"classificacao_id\"),\n",
    "    F.col(\"classificacao.nome\").alias(\"classificacao_nome\"),\n",
    "    F.col(\"classificacao.categoria\").alias(\"classificacao_categoria\"),\n",
    "    F.col(\"serie.localidade.id\").alias(\"localidade_id\"),\n",
    "    F.col(\"serie.localidade.nivel.id\").alias(\"localidade_nivel_id\"),\n",
    "    F.col(\"serie.localidade.nivel.nome\").alias(\"localidade_nivel_nome\"),\n",
    "    F.col(\"serie.localidade.nome\").alias(\"localidade_nome\"),\n",
    "    F.col(\"serie.serie\").alias(\"serie\")\n",
    ")"
   ]
  },
  {
   "cell_type": "code",
   "execution_count": null,
   "metadata": {},
   "outputs": [],
   "source": [
    "df_out.show(truncate=False)"
   ]
  }
 ],
 "metadata": {
  "kernelspec": {
   "display_name": ".venv",
   "language": "python",
   "name": "python3"
  },
  "language_info": {
   "codemirror_mode": {
    "name": "ipython",
    "version": 3
   },
   "file_extension": ".py",
   "mimetype": "text/x-python",
   "name": "python",
   "nbconvert_exporter": "python",
   "pygments_lexer": "ipython3",
   "version": "3.10.12"
  }
 },
 "nbformat": 4,
 "nbformat_minor": 2
}
